{
 "cells": [
  {
   "cell_type": "code",
   "execution_count": 6,
   "metadata": {},
   "outputs": [],
   "source": [
    "import queue\n",
    "\n",
    "class Process_Queue():\n",
    "    def __init__(lst=[]):\n",
    "        self.q = Queue()\n",
    "        for i in range(len(lst)):\n",
    "            item = lst[i]\n",
    "            q.put(item)\n",
    "    \n",
    "    # add one process\n",
    "    def addProcess(self, p):\n",
    "        self.q.put(p)\n",
    "    \n",
    "    # add multiple processes in order\n",
    "    def addProcesses(self, lst):\n",
    "        for i in range(len(lst)):\n",
    "            item = lst[i]\n",
    "            self.q.put(item)\n",
    "    \n",
    "    # print out processes\n",
    "    def listProcesses(self):\n",
    "        qlst = list(self.q.queue)\n",
    "        for i in range(len(qlst)):\n",
    "            p = qlst[i]\n",
    "            println(p)\n",
    "    \n",
    "    # default printing method\n",
    "    def __str__(self):\n",
    "        size = self.q.qsize\n",
    "        println(\"Process Queue of size: \",size, sep=\"\")\n",
    "        self.listProcesses()\n",
    "\n",
    "class Process():\n",
    "    def __init__(name=\"\"):\n",
    "        self.id = random()\n",
    "        self.name = name\n",
    "    \n",
    "    # default printing method\n",
    "    def __str__(self):\n",
    "        println(\"Process ID \",self.id,\" | name \", self.name)\n",
    "    \n",
    "class Input():\n",
    "    def __init__(fname=\"\"):\n",
    "        self.fname = fname\n",
    "    \n",
    "    def readInput():\n",
    "        content = open(self.fname, \"r\").read()\n",
    "        return content\n",
    "    \n",
    "    def readlnInput():\n",
    "        lines = open(self.fname, \"r\").readlines()\n",
    "        return lines\n",
    "        \n",
    "    \n",
    "    \n",
    "    \n",
    "    "
   ]
  },
  {
   "cell_type": "code",
   "execution_count": null,
   "metadata": {},
   "outputs": [],
   "source": []
  }
 ],
 "metadata": {
  "kernelspec": {
   "display_name": "Python 3",
   "language": "python",
   "name": "python3"
  },
  "language_info": {
   "codemirror_mode": {
    "name": "ipython",
    "version": 3
   },
   "file_extension": ".py",
   "mimetype": "text/x-python",
   "name": "python",
   "nbconvert_exporter": "python",
   "pygments_lexer": "ipython3",
   "version": "3.6.5"
  }
 },
 "nbformat": 4,
 "nbformat_minor": 2
}
